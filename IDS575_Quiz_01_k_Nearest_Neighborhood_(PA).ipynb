{
  "cells": [
    {
      "cell_type": "markdown",
      "metadata": {
        "id": "8whzZ401qHfw"
      },
      "source": [
        "# **IDS575: Machine Learning and Statistical Methods**\n",
        "## [Quiz #01 - k-Nearest Neighborhood (PA)]\n",
        "\n"
      ]
    },
    {
      "cell_type": "markdown",
      "metadata": {
        "id": "k6SPe_RaqUs0"
      },
      "source": [
        "## Import Libraries\n",
        "* See various conventions and acronyms."
      ]
    },
    {
      "cell_type": "code",
      "execution_count": 1,
      "metadata": {
        "id": "KqpM0-NGe5PW"
      },
      "outputs": [],
      "source": [
        "import numpy as np\n",
        "import pandas as pd\n",
        "from sklearn.datasets import load_breast_cancer"
      ]
    },
    {
      "cell_type": "markdown",
      "metadata": {
        "id": "5yZIqQ2HfWbx"
      },
      "source": [
        "# Load the data\n",
        "*   Verify the Python type for the dataset."
      ]
    },
    {
      "cell_type": "code",
      "execution_count": 2,
      "metadata": {
        "colab": {
          "base_uri": "https://localhost:8080/"
        },
        "id": "vsE6kOEre-zZ",
        "outputId": "f3c3c726-3831-447f-87fb-a1f20ff8c5b5"
      },
      "outputs": [
        {
          "output_type": "stream",
          "name": "stdout",
          "text": [
            "<class 'sklearn.utils.Bunch'>\n",
            "dict_keys(['data', 'target', 'frame', 'target_names', 'DESCR', 'feature_names', 'filename', 'data_module'])\n"
          ]
        }
      ],
      "source": [
        "CancerDataset = load_breast_cancer()\n",
        "print(type(CancerDataset))\n",
        "print(CancerDataset.keys())"
      ]
    },
    {
      "cell_type": "markdown",
      "metadata": {
        "id": "I52TpKHlft7Q"
      },
      "source": [
        "## Verify basic data statistics\n",
        "* Count the number of features. (i.e., attributes)\n",
        "* Count the number of examples. (i.e., instances and labels)\n",
        "* Print out the description of each feature."
      ]
    },
    {
      "cell_type": "code",
      "execution_count": 3,
      "metadata": {
        "colab": {
          "base_uri": "https://localhost:8080/"
        },
        "id": "fvYra_4mf1tt",
        "outputId": "166db5fb-f7f5-43b9-e055-1eb52fc144d2"
      },
      "outputs": [
        {
          "output_type": "stream",
          "name": "stdout",
          "text": [
            "['mean radius' 'mean texture' 'mean perimeter' 'mean area'\n",
            " 'mean smoothness' 'mean compactness' 'mean concavity'\n",
            " 'mean concave points' 'mean symmetry' 'mean fractal dimension'\n",
            " 'radius error' 'texture error' 'perimeter error' 'area error'\n",
            " 'smoothness error' 'compactness error' 'concavity error'\n",
            " 'concave points error' 'symmetry error' 'fractal dimension error'\n",
            " 'worst radius' 'worst texture' 'worst perimeter' 'worst area'\n",
            " 'worst smoothness' 'worst compactness' 'worst concavity'\n",
            " 'worst concave points' 'worst symmetry' 'worst fractal dimension'] ['malignant' 'benign']\n",
            "30 <class 'numpy.ndarray'>\n",
            "(569, 30) (569,)\n",
            ".. _breast_cancer_dataset:\n",
            "\n",
            "Breast cancer wisconsin (diagnostic) dataset\n",
            "--------------------------------------------\n",
            "\n",
            "**Data Set Characteristics:**\n",
            "\n",
            "    :Number of Instances: 569\n",
            "\n",
            "    :Number of Attributes: 30 numeric, predictive attributes and the class\n",
            "\n",
            "    :Attribute Information:\n",
            "        - radius (mean of distances from center to points on the perimeter)\n",
            "        - texture (standard deviation of gray-scale values)\n",
            "        - perimeter\n",
            "        - area\n",
            "        - smoothness (local variation in radius lengths)\n",
            "        - compactness (perimeter^2 / area - 1.0)\n",
            "        - concavity (severity of concave portions of the contour)\n",
            "        - concave points (number of concave portions of the contour)\n",
            "        - symmetry\n",
            "        - fractal dimension (\"coastline approximation\" - 1)\n",
            "\n",
            "        The mean, standard error, and \"worst\" or largest (mean of the three\n",
            "        worst/largest values) of these features were computed for each image,\n",
            "        resulting in 30 features.  For instance, field 0 is Mean Radius, field\n",
            "        10 is Radius SE, field 20 is Worst Radius.\n",
            "\n",
            "        - class:\n",
            "                - WDBC-Malignant\n",
            "                - WDBC-Benign\n",
            "\n",
            "    :Summary Statistics:\n",
            "\n",
            "    ===================================== ====== ======\n",
            "                                           Min    Max\n",
            "    ===================================== ====== ======\n",
            "    radius (mean):                        6.981  28.11\n",
            "    texture (mean):                       9.71   39.28\n",
            "    perimeter (mean):                     43.79  188.5\n",
            "    area (mean):                          143.5  2501.0\n",
            "    smoothness (mean):                    0.053  0.163\n",
            "    compactness (mean):                   0.019  0.345\n",
            "    concavity (mean):                     0.0    0.427\n",
            "    concave points (mean):                0.0    0.201\n",
            "    symmetry (mean):                      0.106  0.304\n",
            "    fractal dimension (mean):             0.05   0.097\n",
            "    radius (standard error):              0.112  2.873\n",
            "    texture (standard error):             0.36   4.885\n",
            "    perimeter (standard error):           0.757  21.98\n",
            "    area (standard error):                6.802  542.2\n",
            "    smoothness (standard error):          0.002  0.031\n",
            "    compactness (standard error):         0.002  0.135\n",
            "    concavity (standard error):           0.0    0.396\n",
            "    concave points (standard error):      0.0    0.053\n",
            "    symmetry (standard error):            0.008  0.079\n",
            "    fractal dimension (standard error):   0.001  0.03\n",
            "    radius (worst):                       7.93   36.04\n",
            "    texture (worst):                      12.02  49.54\n",
            "    perimeter (worst):                    50.41  251.2\n",
            "    area (worst):                         185.2  4254.0\n",
            "    smoothness (worst):                   0.071  0.223\n",
            "    compactness (worst):                  0.027  1.058\n",
            "    concavity (worst):                    0.0    1.252\n",
            "    concave points (worst):               0.0    0.291\n",
            "    symmetry (worst):                     0.156  0.664\n",
            "    fractal dimension (worst):            0.055  0.208\n",
            "    ===================================== ====== ======\n",
            "\n",
            "    :Missing Attribute Values: None\n",
            "\n",
            "    :Class Distribution: 212 - Malignant, 357 - Benign\n",
            "\n",
            "    :Creator:  Dr. William H. Wolberg, W. Nick Street, Olvi L. Mangasarian\n",
            "\n",
            "    :Donor: Nick Street\n",
            "\n",
            "    :Date: November, 1995\n",
            "\n",
            "This is a copy of UCI ML Breast Cancer Wisconsin (Diagnostic) datasets.\n",
            "https://goo.gl/U2Uwz2\n",
            "\n",
            "Features are computed from a digitized image of a fine needle\n",
            "aspirate (FNA) of a breast mass.  They describe\n",
            "characteristics of the cell nuclei present in the image.\n",
            "\n",
            "Separating plane described above was obtained using\n",
            "Multisurface Method-Tree (MSM-T) [K. P. Bennett, \"Decision Tree\n",
            "Construction Via Linear Programming.\" Proceedings of the 4th\n",
            "Midwest Artificial Intelligence and Cognitive Science Society,\n",
            "pp. 97-101, 1992], a classification method which uses linear\n",
            "programming to construct a decision tree.  Relevant features\n",
            "were selected using an exhaustive search in the space of 1-4\n",
            "features and 1-3 separating planes.\n",
            "\n",
            "The actual linear program used to obtain the separating plane\n",
            "in the 3-dimensional space is that described in:\n",
            "[K. P. Bennett and O. L. Mangasarian: \"Robust Linear\n",
            "Programming Discrimination of Two Linearly Inseparable Sets\",\n",
            "Optimization Methods and Software 1, 1992, 23-34].\n",
            "\n",
            "This database is also available through the UW CS ftp server:\n",
            "\n",
            "ftp ftp.cs.wisc.edu\n",
            "cd math-prog/cpo-dataset/machine-learn/WDBC/\n",
            "\n",
            ".. topic:: References\n",
            "\n",
            "   - W.N. Street, W.H. Wolberg and O.L. Mangasarian. Nuclear feature extraction \n",
            "     for breast tumor diagnosis. IS&T/SPIE 1993 International Symposium on \n",
            "     Electronic Imaging: Science and Technology, volume 1905, pages 861-870,\n",
            "     San Jose, CA, 1993.\n",
            "   - O.L. Mangasarian, W.N. Street and W.H. Wolberg. Breast cancer diagnosis and \n",
            "     prognosis via linear programming. Operations Research, 43(4), pages 570-577, \n",
            "     July-August 1995.\n",
            "   - W.H. Wolberg, W.N. Street, and O.L. Mangasarian. Machine learning techniques\n",
            "     to diagnose breast cancer from fine-needle aspirates. Cancer Letters 77 (1994) \n",
            "     163-171.\n"
          ]
        }
      ],
      "source": [
        "def printBasicStats(dataset):\n",
        "  print(dataset['feature_names'], dataset['target_names'])\n",
        "  print(len(dataset['feature_names']), type(dataset['feature_names']))  \n",
        "  print(dataset['data'].shape, dataset['target'].shape)\n",
        "  print(dataset['DESCR'])\n",
        "\n",
        "printBasicStats(CancerDataset)"
      ]
    },
    {
      "cell_type": "markdown",
      "metadata": {
        "id": "d4FasHpPuFM9"
      },
      "source": [
        "## Convert the dataset to a DataFrame\n",
        "*   Not necessarily useful. (scikit-learn works well with default libraries such as list, numpy array, and scipy's sparse matrix)\n",
        "*   But using pandas provides more intuitive excel or R-like views."
      ]
    },
    {
      "cell_type": "code",
      "execution_count": 4,
      "metadata": {
        "colab": {
          "base_uri": "https://localhost:8080/"
        },
        "id": "BMLKmB6YyweU",
        "outputId": "81426610-de55-4b52-9070-0eb533634275"
      },
      "outputs": [
        {
          "output_type": "stream",
          "name": "stdout",
          "text": [
            "     mean radius  mean texture  ...  worst fractal dimension  target\n",
            "0          17.99         10.38  ...                  0.11890     0.0\n",
            "1          20.57         17.77  ...                  0.08902     0.0\n",
            "2          19.69         21.25  ...                  0.08758     0.0\n",
            "3          11.42         20.38  ...                  0.17300     0.0\n",
            "4          20.29         14.34  ...                  0.07678     0.0\n",
            "..           ...           ...  ...                      ...     ...\n",
            "564        21.56         22.39  ...                  0.07115     0.0\n",
            "565        20.13         28.25  ...                  0.06637     0.0\n",
            "566        16.60         28.08  ...                  0.07820     0.0\n",
            "567        20.60         29.33  ...                  0.12400     0.0\n",
            "568         7.76         24.54  ...                  0.07039     1.0\n",
            "\n",
            "[569 rows x 31 columns]\n"
          ]
        }
      ],
      "source": [
        "def getDataFrame(dataset):\n",
        "  numData = dataset['target'].shape[0]\n",
        "  newDataset = np.concatenate((dataset['data'], dataset['target'].reshape(numData, -1)), axis=1)\n",
        "  newNames = np.append(dataset['feature_names'], ['target'])\n",
        "  return pd.DataFrame(newDataset, columns=newNames)\n",
        "\n",
        "DataFrame = getDataFrame(CancerDataset)\n",
        "print(DataFrame)\n",
        "  "
      ]
    },
    {
      "cell_type": "markdown",
      "metadata": {
        "id": "Hvv9qut545EC"
      },
      "source": [
        "## Inspect label distribution\n",
        "*   Check the target label distribution/imbalance.\n"
      ]
    },
    {
      "cell_type": "code",
      "execution_count": 5,
      "metadata": {
        "colab": {
          "base_uri": "https://localhost:8080/"
        },
        "id": "dN7uNxaQ44V3",
        "outputId": "5d8a33c7-9738-4864-f3d4-bd3898929a79"
      },
      "outputs": [
        {
          "output_type": "stream",
          "name": "stdout",
          "text": [
            "0.0    212\n",
            "1.0    357\n",
            "Name: target, dtype: int64\n",
            "malignant    212\n",
            "benign       357\n",
            "Name: target, dtype: int64\n"
          ]
        }
      ],
      "source": [
        "def printLabelDist(df, dataset):\n",
        "  counts = df.target.value_counts(ascending=True)\n",
        "  print(counts)\n",
        "  counts.index = dataset['target_names']\n",
        "  print(counts)  \n",
        "\n",
        "printLabelDist(DataFrame, CancerDataset)"
      ]
    },
    {
      "cell_type": "markdown",
      "metadata": {
        "id": "ZMOchrr-44km"
      },
      "source": [
        "## Data split\n",
        "* Split the data into training and test sets.\n",
        "* No validation for now.\n",
        "\n"
      ]
    },
    {
      "cell_type": "code",
      "execution_count": 6,
      "metadata": {
        "id": "43YD6bBxABB6"
      },
      "outputs": [],
      "source": [
        "from sklearn.model_selection import train_test_split\n",
        "def splitData(df, size):\n",
        "  X, y = df[df.columns[:-1]], df.target\n",
        "  X_train, X_test, y_train, y_test = train_test_split(X, y, train_size=size, test_size=X.shape[0] - size, random_state=0)\n",
        "  return (X_train, y_train), (X_test, y_test)\n",
        "\n",
        "(X_train, y_train), (X_test, y_test) = splitData(DataFrame, 400)\n",
        "assert X_train.shape == (400, 30)\n",
        "assert y_train.shape == (400, )"
      ]
    },
    {
      "cell_type": "markdown",
      "metadata": {
        "id": "sFaGtOGLCI__"
      },
      "source": [
        "# Training\n",
        "*   Train a k-NN model on the training data.\n",
        "*   Get the training accuracy.\n",
        "\n"
      ]
    },
    {
      "cell_type": "code",
      "execution_count": 7,
      "metadata": {
        "colab": {
          "base_uri": "https://localhost:8080/"
        },
        "id": "C5LkwK0lCG9e",
        "outputId": "c24abf9e-d9bb-4e48-ffda-2a0d47855ac7"
      },
      "outputs": [
        {
          "output_type": "stream",
          "name": "stdout",
          "text": [
            "1.0\n",
            "0.9525\n"
          ]
        }
      ],
      "source": [
        "from sklearn.neighbors import KNeighborsClassifier\n",
        "def trainKnn(X, y, k=1):\n",
        "  model = KNeighborsClassifier(n_neighbors=k)\n",
        "  model.fit(X, y)\n",
        "  pred = model.predict(X)\n",
        "  accuracy = sum(pred == y) / len(X)    \n",
        "  return model, accuracy\n",
        "\n",
        "Model, Acc_train = trainKnn(X_train, y_train, 1)\n",
        "print(Acc_train)\n",
        "Model3, Acc_train3 = trainKnn(X_train, y_train, 3)\n",
        "print(Acc_train3)"
      ]
    },
    {
      "cell_type": "markdown",
      "metadata": {
        "id": "-17x1JmZC3rN"
      },
      "source": [
        "# Test\n",
        "*   Test the model on the test data.\n",
        "*   Print out the accuracy for different k's.\n",
        "\n"
      ]
    },
    {
      "cell_type": "code",
      "execution_count": 8,
      "metadata": {
        "colab": {
          "base_uri": "https://localhost:8080/"
        },
        "id": "6FN1esj5CzHG",
        "outputId": "f13fbe53-ad06-4ac8-d0af-22a96e7d280a"
      },
      "outputs": [
        {
          "output_type": "stream",
          "name": "stdout",
          "text": [
            "1-NN --> training accuracy = 1.0000  /  test accuracy = 0.9172\n",
            "2-NN --> training accuracy = 0.9625  /  test accuracy = 0.8994\n",
            "3-NN --> training accuracy = 0.9525  /  test accuracy = 0.9172\n",
            "4-NN --> training accuracy = 0.9475  /  test accuracy = 0.9290\n",
            "5-NN --> training accuracy = 0.9400  /  test accuracy = 0.9467\n",
            "6-NN --> training accuracy = 0.9325  /  test accuracy = 0.9349\n",
            "7-NN --> training accuracy = 0.9375  /  test accuracy = 0.9527\n",
            "8-NN --> training accuracy = 0.9375  /  test accuracy = 0.9527\n",
            "9-NN --> training accuracy = 0.9325  /  test accuracy = 0.9586\n",
            "10-NN --> training accuracy = 0.9325  /  test accuracy = 0.9527\n",
            "11-NN --> training accuracy = 0.9350  /  test accuracy = 0.9645\n",
            "12-NN --> training accuracy = 0.9350  /  test accuracy = 0.9645\n",
            "13-NN --> training accuracy = 0.9300  /  test accuracy = 0.9645\n",
            "14-NN --> training accuracy = 0.9300  /  test accuracy = 0.9645\n",
            "15-NN --> training accuracy = 0.9325  /  test accuracy = 0.9645\n",
            "16-NN --> training accuracy = 0.9300  /  test accuracy = 0.9645\n",
            "17-NN --> training accuracy = 0.9325  /  test accuracy = 0.9645\n",
            "18-NN --> training accuracy = 0.9350  /  test accuracy = 0.9645\n",
            "19-NN --> training accuracy = 0.9250  /  test accuracy = 0.9645\n"
          ]
        }
      ],
      "source": [
        "def testKnn(model, X, y):\n",
        "  pred = model.predict(X)\n",
        "  accuracy = sum(pred == y) / len(X)\n",
        "  return accuracy \n",
        "  \n",
        "testKnn(Model, X_test, y_test)\n",
        "for k in range(1, 20):\n",
        "  Model_k, Acc_train = trainKnn(X_train, y_train, k)\n",
        "  Acc_test = testKnn(Model_k, X_test, y_test)\n",
        "  print('%d-NN --> training accuracy = %.4f  /  test accuracy = %.4f' % (k, Acc_train, Acc_test))"
      ]
    },
    {
      "cell_type": "markdown",
      "metadata": {
        "id": "shv0r94MExHv"
      },
      "source": [
        "# Programming Assignment (PA)\n",
        "*   Implement distance().\n",
        "*   Implement predict_one().\n",
        "*   Verify whether myTrainKnn gives the same training accuracies with before.\n",
        "*   Verify whether myTestKnn gives the same test accuracies with before over increasing k. **(Note that when k is a even number, the resulting accuracy could be different due to different tie-braeaking. It is enough to see matching results for odd k's)**\n",
        "\n"
      ]
    },
    {
      "cell_type": "code",
      "execution_count": 9,
      "metadata": {
        "id": "qQLD2IsVEzrW"
      },
      "outputs": [],
      "source": [
        "from collections import Counter\n",
        "import math\n",
        "class MyKNeighborsClassifier:\n",
        "  X_train = None\n",
        "  y_train = None\n",
        "\n",
        "  def __init__(self, n_neighbors):\n",
        "    self.k = n_neighbors\n",
        "\n",
        "  @staticmethod\n",
        "  def distance(src, dst):\n",
        "    ######################################################\n",
        "    # TO-DO: Return the Euclidean distance.\n",
        "    distt=0\n",
        "    for ii in range(len(dst)):\n",
        "      distt=distt+(src[ii] -dst[ii])**2\n",
        "    return math.sqrt(distt)\n",
        "    ######################################################\n",
        "\n",
        "  def fit(self, X, y):\n",
        "    # Convert training data to numpy array.\n",
        "    # There is nothing to do more for kNN as it avoids explicit generalization.\n",
        "    self.X_train = np.array(X)\n",
        "    self.y_train = np.array(y)    \n",
        "    \n",
        "  ## Predict the label for just one example.\n",
        "  def predict_one(self, x):\n",
        "    # Measure the distance to each of training data.\n",
        "    # Then sort by increasing order of distances.\n",
        "    distances = []\n",
        "    for (i, x_train) in enumerate(self.X_train):      \n",
        "      distances.append([i, self.distance(x, x_train)])      \n",
        "    distances.sort(key=lambda element: element[1])\n",
        "    #print(distances[:4])\n",
        "    ########################################################################\n",
        "    # TO-DO: Extract the indexes of the examples in the k-Nearest Neighbors.    \n",
        "    kNN=[]\n",
        "    if self.k ==1:\n",
        "      kNN.append(distances[1][0])\n",
        "    elif self.k>=2:\n",
        "      for iii in range(self.k):\n",
        "        kNN.append(distances[iii][0])\n",
        "    ########################################################################\n",
        "    # Extract k target values corresponding to the example indexes in kNN.    \n",
        "    targets = [self.y_train[i] for i in kNN]\n",
        "    # Return the majority-voted target value.\n",
        "    return Counter(targets).most_common(1)[0][0]\n",
        "  \n",
        "  ## Predict the labels for every example.\n",
        "  def predict(self, X):    \n",
        "    predictions = []\n",
        "    for (i, x) in enumerate(np.array(X)):\n",
        "      predictions.append(self.predict_one(x))\n",
        "    return np.asarray(predictions)\n",
        "\n"
      ]
    },
    {
      "cell_type": "code",
      "execution_count": 10,
      "metadata": {
        "colab": {
          "base_uri": "https://localhost:8080/"
        },
        "id": "-EYhZBm3SjR5",
        "outputId": "6fde898f-3ef8-45eb-ee64-91a11f21c17c"
      },
      "outputs": [
        {
          "output_type": "stream",
          "name": "stdout",
          "text": [
            "0.9075\n",
            "0.9525\n"
          ]
        }
      ],
      "source": [
        "def myTrainKnn(X, y, k=1):\n",
        "  model = MyKNeighborsClassifier(n_neighbors=k)\n",
        "  model.fit(X, y)\n",
        "  pred = model.predict(X)\n",
        "  accuracy = sum(pred == y) / len(X)    \n",
        "  return model, accuracy\n",
        "\n",
        "Model, Acc_train = myTrainKnn(X_train, y_train, 1)\n",
        "print(Acc_train)\n",
        "Model3, Acc_train3 = myTrainKnn(X_train, y_train, 3)\n",
        "print(Acc_train3)"
      ]
    },
    {
      "cell_type": "code",
      "execution_count": 11,
      "metadata": {
        "id": "VW2QsdcTgPVa",
        "colab": {
          "base_uri": "https://localhost:8080/"
        },
        "outputId": "63fbee3d-4a4e-4b30-cf54-8412aff2c50b"
      },
      "outputs": [
        {
          "output_type": "stream",
          "name": "stdout",
          "text": [
            "1-NN --> training accuracy = 0.9075  /  test accuracy = 0.9112\n",
            "2-NN --> training accuracy = 1.0000  /  test accuracy = 0.9172\n",
            "3-NN --> training accuracy = 0.9525  /  test accuracy = 0.9172\n",
            "4-NN --> training accuracy = 0.9675  /  test accuracy = 0.9290\n",
            "5-NN --> training accuracy = 0.9400  /  test accuracy = 0.9467\n",
            "6-NN --> training accuracy = 0.9500  /  test accuracy = 0.9408\n",
            "7-NN --> training accuracy = 0.9375  /  test accuracy = 0.9527\n",
            "8-NN --> training accuracy = 0.9425  /  test accuracy = 0.9527\n",
            "9-NN --> training accuracy = 0.9325  /  test accuracy = 0.9586\n",
            "10-NN --> training accuracy = 0.9450  /  test accuracy = 0.9527\n",
            "11-NN --> training accuracy = 0.9350  /  test accuracy = 0.9645\n",
            "12-NN --> training accuracy = 0.9475  /  test accuracy = 0.9645\n",
            "13-NN --> training accuracy = 0.9300  /  test accuracy = 0.9645\n",
            "14-NN --> training accuracy = 0.9375  /  test accuracy = 0.9645\n",
            "15-NN --> training accuracy = 0.9325  /  test accuracy = 0.9645\n",
            "16-NN --> training accuracy = 0.9375  /  test accuracy = 0.9645\n",
            "17-NN --> training accuracy = 0.9325  /  test accuracy = 0.9645\n",
            "18-NN --> training accuracy = 0.9400  /  test accuracy = 0.9645\n",
            "19-NN --> training accuracy = 0.9250  /  test accuracy = 0.9645\n"
          ]
        }
      ],
      "source": [
        "def myTestKnn(model, X, y):\n",
        "  pred = model.predict(X)\n",
        "  accuracy = sum(pred == y) / len(X)\n",
        "  return accuracy \n",
        "  \n",
        "myTestKnn(Model, X_test, y_test)\n",
        "for k in range(1, 20):\n",
        "  Model_k, Acc_train = myTrainKnn(X_train, y_train, k)\n",
        "  Acc_test = myTestKnn(Model_k, X_test, y_test)\n",
        "  print('%d-NN --> training accuracy = %.4f  /  test accuracy = %.4f' % (k, Acc_train, Acc_test))"
      ]
    },
    {
      "cell_type": "code",
      "source": [
        ""
      ],
      "metadata": {
        "id": "CcRj5VBXIiQ1"
      },
      "execution_count": 11,
      "outputs": []
    }
  ],
  "metadata": {
    "colab": {
      "collapsed_sections": [],
      "name": "IDS575 - Quiz #01 - k-Nearest Neighborhood (PA).ipynb",
      "provenance": []
    },
    "kernelspec": {
      "display_name": "Python 3",
      "name": "python3"
    }
  },
  "nbformat": 4,
  "nbformat_minor": 0
}